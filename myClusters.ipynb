{
 "cells": [
  {
   "cell_type": "code",
   "execution_count": 2,
   "metadata": {},
   "outputs": [],
   "source": [
    "# Import libraries\n",
    "import tensorflow as tf\n",
    "from tensorflow import keras\n",
    "\n",
    "import pandas as pd\n",
    "import numpy as np"
   ]
  },
  {
   "cell_type": "code",
   "execution_count": 27,
   "metadata": {},
   "outputs": [],
   "source": [
    "# Load training and testing data set\n",
    "train_df = pd.read_csv('C:/Users/16475/Desktop/Neural Nets/neural-nets-master/examples/clusters/data/train.csv')\n",
    "test_df = pd.read_csv('C:/Users/16475/Desktop/Neural Nets/neural-nets-master/examples/clusters/data/test.csv')"
   ]
  },
  {
   "cell_type": "code",
   "execution_count": 28,
   "metadata": {},
   "outputs": [
    {
     "name": "stdout",
     "output_type": "stream",
     "text": [
      "          x         y color\n",
      "0  0.129270  1.979720   red\n",
      "1 -0.380831  1.693519   red\n",
      "2  0.718693  1.791793   red\n",
      "3  0.722922  0.620655   red\n",
      "4 -0.432689  0.541550   red\n",
      "['red' 'blue' 'green' 'teal' 'orange' 'purple']\n"
     ]
    }
   ],
   "source": [
    "# ONLY RUN ONCE\n",
    "\n",
    "print(train_df.head())\n",
    "\n",
    "# Convert string colors into integers\n",
    "print(train_df.color.unique())\n",
    "\n",
    "color_dict = {'red': 0, 'blue': 1, 'green': 2, 'teal': 3, 'orange': 4, 'purple': 5}\n",
    "train_df['color'] = train_df.color.apply(lambda x: color_dict[x]) # Permanently changes the df\n",
    "test_df['color'] = test_df.color.apply(lambda x: color_dict[x]) # Permanently changes the df\n"
   ]
  },
  {
   "cell_type": "code",
   "execution_count": 34,
   "metadata": {},
   "outputs": [
    {
     "name": "stdout",
     "output_type": "stream",
     "text": [
      "Epoch 1/10\n",
      "1500/1500 [==============================] - 2s 984us/step - loss: 1.1933 - accuracy: 0.4856\n",
      "Epoch 2/10\n",
      "1500/1500 [==============================] - 1s 724us/step - loss: 0.4370 - accuracy: 0.8288\n",
      "Epoch 3/10\n",
      "1500/1500 [==============================] - 1s 773us/step - loss: 0.3324 - accuracy: 0.8742\n",
      "Epoch 4/10\n",
      "1500/1500 [==============================] - 1s 654us/step - loss: 0.2875 - accuracy: 0.8853\n",
      "Epoch 5/10\n",
      "1500/1500 [==============================] - 1s 666us/step - loss: 0.2464 - accuracy: 0.9021\n",
      "Epoch 6/10\n",
      "1500/1500 [==============================] - 1s 656us/step - loss: 0.2140 - accuracy: 0.9163\n",
      "Epoch 7/10\n",
      "1500/1500 [==============================] - 1s 662us/step - loss: 0.1860 - accuracy: 0.9307\n",
      "Epoch 8/10\n",
      "1500/1500 [==============================] - 1s 730us/step - loss: 0.1580 - accuracy: 0.9415\n",
      "Epoch 9/10\n",
      "1500/1500 [==============================] - 1s 859us/step - loss: 0.1493 - accuracy: 0.9404\n",
      "Epoch 10/10\n",
      "1500/1500 [==============================] - 1s 795us/step - loss: 0.1360 - accuracy: 0.9467\n",
      "Evaluation\n",
      "38/38 [==============================] - 0s 667us/step - loss: 0.1390 - accuracy: 0.9408\n",
      "Prediction [[0.06 0.32 0.   0.   0.   1.  ]]\n"
     ]
    }
   ],
   "source": [
    "np.random.shuffle(train_df.values)\n",
    "\n",
    "# Define 2 by 4 by 2 model\n",
    "model = keras.Sequential([\n",
    "    keras.layers.Dense(16,input_shape=(2,),activation='relu'),\n",
    "    keras.layers.Dropout(0.2), # Drops out 20% of the hidden layer (could improve model)\n",
    "    keras.layers.Dense(32, activation = 'relu'),\n",
    "    keras.layers.Dense(6, activation='sigmoid')])\n",
    "\n",
    "# Compile model with optimizer, loss function, and accuracy(use f1 scores later)\n",
    "model.compile(optimizer='adam',\n",
    "              loss=keras.losses.SparseCategoricalCrossentropy(from_logits=True),\n",
    "              metrics=['accuracy']\n",
    "             )\n",
    "\n",
    "# Stack columns together (unroll)\n",
    "x = np.column_stack((train_df.x.values, train_df.y.values))\n",
    "y = train_df.color.values\n",
    "\n",
    "# Fit training data to our network\n",
    "model.fit(x, y, batch_size=4, epochs=10)\n",
    "\n",
    "# Unroll the testing data\n",
    "test_x = np.column_stack((test_df.x.values, test_df.y.values))\n",
    "\n",
    "\n",
    "print('Evaluation')\n",
    "# Evaluate the model\n",
    "model.evaluate(test_x, test_df.color.values)\n",
    "\n",
    "print('Prediction', np.round(model.predict(np.array([[0,3]])),2))"
   ]
  }
 ],
 "metadata": {
  "kernelspec": {
   "display_name": "Python 3",
   "language": "python",
   "name": "python3"
  },
  "language_info": {
   "codemirror_mode": {
    "name": "ipython",
    "version": 3
   },
   "file_extension": ".py",
   "mimetype": "text/x-python",
   "name": "python",
   "nbconvert_exporter": "python",
   "pygments_lexer": "ipython3",
   "version": "3.8.5"
  }
 },
 "nbformat": 4,
 "nbformat_minor": 4
}
