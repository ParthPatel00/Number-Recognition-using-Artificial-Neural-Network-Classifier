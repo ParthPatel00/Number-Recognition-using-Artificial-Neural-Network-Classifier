{
 "cells": [
  {
   "cell_type": "code",
   "execution_count": 4,
   "metadata": {},
   "outputs": [],
   "source": [
    "# Import libraries\n",
    "import tensorflow as tf\n",
    "from tensorflow import keras\n",
    "\n",
    "import pandas as pd\n",
    "import numpy as np"
   ]
  },
  {
   "cell_type": "code",
   "execution_count": 5,
   "metadata": {},
   "outputs": [],
   "source": [
    "# Load training and testing data set\n",
    "train_df = pd.read_csv('C:/Users/16475/Desktop/Neural Nets/neural-nets-master/examples/complex/data/train.csv')\n",
    "test_df = pd.read_csv('C:/Users/16475/Desktop/Neural Nets/neural-nets-master/examples/complex/data/test.csv')"
   ]
  },
  {
   "cell_type": "code",
   "execution_count": 12,
   "metadata": {},
   "outputs": [
    {
     "name": "stdout",
     "output_type": "stream",
     "text": [
      "Epoch 1/20\n",
      "625/625 [==============================] - 1s 1ms/step - loss: 0.6261 - accuracy: 0.6191\n",
      "Epoch 2/20\n",
      "625/625 [==============================] - 1s 1ms/step - loss: 0.5660 - accuracy: 0.7108\n",
      "Epoch 3/20\n",
      "625/625 [==============================] - 1s 1ms/step - loss: 0.5133 - accuracy: 0.7458\n",
      "Epoch 4/20\n",
      "625/625 [==============================] - 1s 1ms/step - loss: 0.4725 - accuracy: 0.7762\n",
      "Epoch 5/20\n",
      "625/625 [==============================] - 1s 1ms/step - loss: 0.4494 - accuracy: 0.7889\n",
      "Epoch 6/20\n",
      "625/625 [==============================] - 1s 1ms/step - loss: 0.4239 - accuracy: 0.8025\n",
      "Epoch 7/20\n",
      "625/625 [==============================] - 1s 1ms/step - loss: 0.3973 - accuracy: 0.8183\n",
      "Epoch 8/20\n",
      "625/625 [==============================] - 1s 1ms/step - loss: 0.3838 - accuracy: 0.8192\n",
      "Epoch 9/20\n",
      "625/625 [==============================] - 1s 1ms/step - loss: 0.3501 - accuracy: 0.8384\n",
      "Epoch 10/20\n",
      "625/625 [==============================] - 1s 1ms/step - loss: 0.3445 - accuracy: 0.8394\n",
      "Epoch 11/20\n",
      "625/625 [==============================] - 1s 1ms/step - loss: 0.3214 - accuracy: 0.8496\n",
      "Epoch 12/20\n",
      "625/625 [==============================] - 1s 1ms/step - loss: 0.3129 - accuracy: 0.8572\n",
      "Epoch 13/20\n",
      "625/625 [==============================] - ETA: 0s - loss: 0.3088 - accuracy: 0.85 - 1s 1ms/step - loss: 0.3087 - accuracy: 0.8555\n",
      "Epoch 14/20\n",
      "625/625 [==============================] - 1s 1ms/step - loss: 0.2981 - accuracy: 0.8619\n",
      "Epoch 15/20\n",
      "625/625 [==============================] - 1s 1ms/step - loss: 0.2853 - accuracy: 0.8695\n",
      "Epoch 16/20\n",
      "625/625 [==============================] - 1s 1ms/step - loss: 0.2805 - accuracy: 0.8739\n",
      "Epoch 17/20\n",
      "625/625 [==============================] - 1s 1ms/step - loss: 0.2740 - accuracy: 0.8741\n",
      "Epoch 18/20\n",
      "625/625 [==============================] - 1s 1ms/step - loss: 0.2690 - accuracy: 0.8781\n",
      "Epoch 19/20\n",
      "625/625 [==============================] - 1s 1ms/step - loss: 0.2664 - accuracy: 0.8795\n",
      "Epoch 20/20\n",
      "625/625 [==============================] - 1s 1ms/step - loss: 0.2554 - accuracy: 0.8859\n",
      "Evaluation\n",
      "157/157 [==============================] - 0s 665us/step - loss: 0.2153 - accuracy: 0.8952\n"
     ]
    },
    {
     "data": {
      "text/plain": [
       "[0.21531692147254944, 0.8952000141143799]"
      ]
     },
     "execution_count": 12,
     "metadata": {},
     "output_type": "execute_result"
    }
   ],
   "source": [
    "np.random.shuffle(train_df.values)\n",
    "\n",
    "# Define 2 by 4 by 2 model\n",
    "model = keras.Sequential([\n",
    "    keras.layers.Dense(256,input_shape=(2,),activation='relu'),\n",
    "    keras.layers.Dropout(0.2), # Drops out 20% of the hidden layer (could improve model)\n",
    "    keras.layers.Dense(128,activation='relu'),\n",
    "    keras.layers.Dropout(0.2), # Drops out 20% of the hidden layer (could improve model)\n",
    "    keras.layers.Dense(128, activation = 'relu'),\n",
    "    keras.layers.Dense(2, activation='sigmoid')])\n",
    "\n",
    "# Compile model with optimizer, loss function, and accuracy(use f1 scores later)\n",
    "model.compile(optimizer='adam',\n",
    "              loss=keras.losses.SparseCategoricalCrossentropy(from_logits=True),\n",
    "              metrics=['accuracy']\n",
    "             )\n",
    "\n",
    "# Stack columns together (unroll)\n",
    "x = np.column_stack((train_df.x.values, train_df.y.values))\n",
    "y = train_df.color.values\n",
    "\n",
    "# Fit training data to our network\n",
    "model.fit(x, y, batch_size=32, epochs=20) # Increasing batch_size will make it go quicker\n",
    "# Epochs is the number of times the model will go over the data (reading it over and over)\n",
    "\n",
    "# Unroll the testing data\n",
    "test_x = np.column_stack((test_df.x.values, test_df.y.values))\n",
    "\n",
    "\n",
    "print('Evaluation')\n",
    "# Evaluate the model\n",
    "model.evaluate(test_x, test_df.color.values)"
   ]
  }
 ],
 "metadata": {
  "kernelspec": {
   "display_name": "Python 3",
   "language": "python",
   "name": "python3"
  },
  "language_info": {
   "codemirror_mode": {
    "name": "ipython",
    "version": 3
   },
   "file_extension": ".py",
   "mimetype": "text/x-python",
   "name": "python",
   "nbconvert_exporter": "python",
   "pygments_lexer": "ipython3",
   "version": "3.8.5"
  }
 },
 "nbformat": 4,
 "nbformat_minor": 4
}
