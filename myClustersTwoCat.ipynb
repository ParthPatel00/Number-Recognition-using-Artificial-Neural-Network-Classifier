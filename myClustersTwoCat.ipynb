{
 "cells": [
  {
   "cell_type": "code",
   "execution_count": 35,
   "metadata": {},
   "outputs": [],
   "source": [
    "# Import libraries\n",
    "import tensorflow as tf\n",
    "from tensorflow import keras\n",
    "\n",
    "import pandas as pd\n",
    "import numpy as np"
   ]
  },
  {
   "cell_type": "code",
   "execution_count": 36,
   "metadata": {},
   "outputs": [],
   "source": [
    "# Load training and testing data set\n",
    "train_df = pd.read_csv('C:/Users/16475/Desktop/Neural Nets/neural-nets-master/examples/clusters_two_categories/data/train.csv')\n",
    "test_df = pd.read_csv('C:/Users/16475/Desktop/Neural Nets/neural-nets-master/examples/clusters_two_categories/data/test.csv')"
   ]
  },
  {
   "cell_type": "code",
   "execution_count": 37,
   "metadata": {},
   "outputs": [
    {
     "name": "stdout",
     "output_type": "stream",
     "text": [
      "          x         y color marker\n",
      "0 -0.765775  1.006452   red      ^\n",
      "1  0.229016  0.094320   red      ^\n",
      "2  0.189987  1.589141   red      ^\n",
      "3  0.580085  0.520488   red      ^\n",
      "4  0.292287  0.317852   red      ^\n"
     ]
    }
   ],
   "source": [
    "# We need to pass in an input vector like [0 0 0 0 0 1 0 0 1]\n",
    "# where the first 6 represent the color and the rest represent the marker.\n",
    "# We do this using pandas dummies function\n",
    "\n",
    "\n",
    "one_hot_color = pd.get_dummies(train_df.color).values\n",
    "one_hot_marker = pd.get_dummies(train_df.marker).values\n",
    "\n",
    "print(train_df.head())"
   ]
  },
  {
   "cell_type": "code",
   "execution_count": 38,
   "metadata": {},
   "outputs": [
    {
     "name": "stdout",
     "output_type": "stream",
     "text": [
      "Epoch 1/10\n",
      "375/375 [==============================] - 1s 904us/step - loss: 0.4173 - accuracy: 0.0575\n",
      "Epoch 2/10\n",
      "375/375 [==============================] - 0s 669us/step - loss: 0.1554 - accuracy: 0.2934\n",
      "Epoch 3/10\n",
      "375/375 [==============================] - 0s 861us/step - loss: 0.0856 - accuracy: 0.3603\n",
      "Epoch 4/10\n",
      "375/375 [==============================] - 0s 651us/step - loss: 0.0626 - accuracy: 0.3204\n",
      "Epoch 5/10\n",
      "375/375 [==============================] - 0s 640us/step - loss: 0.0479 - accuracy: 0.2914\n",
      "Epoch 6/10\n",
      "375/375 [==============================] - 0s 645us/step - loss: 0.0433 - accuracy: 0.3118\n",
      "Epoch 7/10\n",
      "375/375 [==============================] - 0s 675us/step - loss: 0.0374 - accuracy: 0.2892\n",
      "Epoch 8/10\n",
      "375/375 [==============================] - 0s 808us/step - loss: 0.0332 - accuracy: 0.2909\n",
      "Epoch 9/10\n",
      "375/375 [==============================] - 0s 656us/step - loss: 0.0337 - accuracy: 0.3221\n",
      "Epoch 10/10\n",
      "375/375 [==============================] - 0s 656us/step - loss: 0.0309 - accuracy: 0.3238\n",
      "EVALUATION\n",
      "38/38 [==============================] - 0s 647us/step - loss: 0.0310 - accuracy: 0.3242\n",
      "Prediction [[0. 0. 0. 1. 0. 0. 1. 0. 0.]\n",
      " [0. 0. 0. 0. 1. 0. 0. 0. 1.]\n",
      " [0. 1. 0. 0. 0. 0. 0. 1. 0.]]\n"
     ]
    }
   ],
   "source": [
    "\n",
    "labels = np.concatenate((one_hot_color, one_hot_marker), axis=1)\n",
    "\n",
    "\n",
    "model = keras.Sequential([\n",
    "    keras.layers.Dense(64, input_shape=(2,), activation='relu'),\n",
    "    keras.layers.Dense(64, activation='relu'),\n",
    "    keras.layers.Dense(9, activation='sigmoid')])\n",
    "\n",
    "model.compile(optimizer='adam', \n",
    "              loss=keras.losses.BinaryCrossentropy(from_logits=True),\n",
    "              metrics=['accuracy'])\n",
    "\n",
    "x = np.column_stack((train_df.x.values, train_df.y.values))\n",
    "\n",
    "np.random.RandomState(seed=1).shuffle(x)\n",
    "np.random.RandomState(seed=1).shuffle(labels)\n",
    "\n",
    "model.fit(x, labels, batch_size=16, epochs=10)\n",
    "\n",
    "test_x = np.column_stack((test_df.x.values, test_df.y.values))\n",
    "\n",
    "test_one_hot_color = pd.get_dummies(test_df.color).values\n",
    "test_one_hot_marker = pd.get_dummies(test_df.marker).values\n",
    "\n",
    "test_labels = np.concatenate((test_one_hot_color, test_one_hot_marker), axis=1)\n",
    "\n",
    "print(\"EVALUATION\")\n",
    "model.evaluate(test_x, test_labels)\n",
    "\n",
    "\n",
    "print(\"Prediction\", np.round(model.predict(np.array([[0,3], [0,1], [-2, 1]]))))\n"
   ]
  }
 ],
 "metadata": {
  "kernelspec": {
   "display_name": "Python 3",
   "language": "python",
   "name": "python3"
  },
  "language_info": {
   "codemirror_mode": {
    "name": "ipython",
    "version": 3
   },
   "file_extension": ".py",
   "mimetype": "text/x-python",
   "name": "python",
   "nbconvert_exporter": "python",
   "pygments_lexer": "ipython3",
   "version": "3.8.5"
  }
 },
 "nbformat": 4,
 "nbformat_minor": 4
}
