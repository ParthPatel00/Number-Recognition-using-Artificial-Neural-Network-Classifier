{
 "cells": [
  {
   "cell_type": "code",
   "execution_count": 14,
   "metadata": {},
   "outputs": [],
   "source": [
    "# Import libraries\n",
    "import tensorflow as tf\n",
    "from tensorflow import keras\n",
    "\n",
    "import pandas as pd\n",
    "import numpy as np"
   ]
  },
  {
   "cell_type": "code",
   "execution_count": 28,
   "metadata": {},
   "outputs": [],
   "source": [
    "# Load training and testing data set\n",
    "train_df = pd.read_csv('C:/Users/16475/Desktop/Neural Nets/neural-nets-master/examples/linear/data/train.csv')\n",
    "test_df = pd.read_csv('C:/Users/16475/Desktop/Neural Nets/neural-nets-master/examples/linear/data/test.csv')"
   ]
  },
  {
   "cell_type": "code",
   "execution_count": 25,
   "metadata": {},
   "outputs": [
    {
     "name": "stdout",
     "output_type": "stream",
     "text": [
      "          x         y  color\n",
      "0  1.146728  2.233629    0.0\n",
      "1  3.676886  4.520687    0.0\n",
      "2  0.730671  1.426260    0.0\n",
      "3  1.950790  3.145987    0.0\n",
      "4  4.323010  5.320534    0.0\n"
     ]
    }
   ],
   "source": [
    "print(train_df.head())"
   ]
  },
  {
   "cell_type": "code",
   "execution_count": 47,
   "metadata": {},
   "outputs": [
    {
     "name": "stdout",
     "output_type": "stream",
     "text": [
      "Epoch 1/5\n",
      "1000/1000 [==============================] - 1s 600us/step - loss: 0.6294 - accuracy: 0.5895\n",
      "Epoch 2/5\n",
      "1000/1000 [==============================] - 1s 615us/step - loss: 0.1385 - accuracy: 0.9993\n",
      "Epoch 3/5\n",
      "1000/1000 [==============================] - 1s 604us/step - loss: 0.0429 - accuracy: 1.0000\n",
      "Epoch 4/5\n",
      "1000/1000 [==============================] - 1s 597us/step - loss: 0.0206 - accuracy: 1.0000\n",
      "Epoch 5/5\n",
      "1000/1000 [==============================] - 1s 600us/step - loss: 0.0099 - accuracy: 1.0000\n",
      "Evaluation\n",
      "32/32 [==============================] - 0s 657us/step - loss: 0.0068 - accuracy: 1.0000\n"
     ]
    },
    {
     "data": {
      "text/plain": [
       "[0.006841964088380337, 1.0]"
      ]
     },
     "execution_count": 47,
     "metadata": {},
     "output_type": "execute_result"
    }
   ],
   "source": [
    "np.random.shuffle(train_df.values)\n",
    "\n",
    "# Define 2 by 4 by 2 model\n",
    "model = keras.Sequential([\n",
    "    keras.layers.Dense(8,input_shape=(2,),activation='relu'),\n",
    "    keras.layers.Dense(2, activation='sigmoid')])\n",
    "\n",
    "# Compile model with optimizer, loss function, and accuracy(use f1 scores later)\n",
    "model.compile(optimizer='adam',\n",
    "              loss=keras.losses.SparseCategoricalCrossentropy(from_logits=True),\n",
    "              metrics=['accuracy']\n",
    "             )\n",
    "\n",
    "# Stack columns together (unroll)\n",
    "x = np.column_stack((train_df.x.values, train_df.y.values))\n",
    "y = train_df.color.values\n",
    "\n",
    "# Fit training data to our network\n",
    "model.fit(x, y, batch_size=4, epochs=5)\n",
    "\n",
    "# Unroll the testing data\n",
    "test_x = np.column_stack((test_df.x.values, test_df.y.values))\n",
    "\n",
    "\n",
    "print('Evaluation')\n",
    "# Evaluate the model\n",
    "model.evaluate(test_x, test_df.color.values)"
   ]
  },
  {
   "cell_type": "code",
   "execution_count": null,
   "metadata": {},
   "outputs": [],
   "source": []
  }
 ],
 "metadata": {
  "kernelspec": {
   "display_name": "Python 3",
   "language": "python",
   "name": "python3"
  },
  "language_info": {
   "codemirror_mode": {
    "name": "ipython",
    "version": 3
   },
   "file_extension": ".py",
   "mimetype": "text/x-python",
   "name": "python",
   "nbconvert_exporter": "python",
   "pygments_lexer": "ipython3",
   "version": "3.8.5"
  }
 },
 "nbformat": 4,
 "nbformat_minor": 4
}
